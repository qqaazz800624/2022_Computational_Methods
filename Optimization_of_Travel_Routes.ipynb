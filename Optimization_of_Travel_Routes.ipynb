{
  "cells": [
    {
      "cell_type": "code",
      "execution_count": 45,
      "metadata": {
        "id": "HHSDgYT9ZKYG"
      },
      "outputs": [],
      "source": [
        "import random\n",
        "import numpy as np\n",
        "import pandas as pd\n",
        "from sys import maxsize\n",
        "import matplotlib.pyplot as plt"
      ]
    },
    {
      "cell_type": "code",
      "execution_count": 2,
      "metadata": {
        "id": "Bj_IXOfgcQp1"
      },
      "outputs": [],
      "source": [
        "np.set_printoptions(linewidth=500, suppress=True)"
      ]
    },
    {
      "cell_type": "markdown",
      "metadata": {
        "id": "FtDF-17hU-dV"
      },
      "source": [
        "### Data"
      ]
    },
    {
      "cell_type": "code",
      "execution_count": 3,
      "metadata": {
        "id": "8DvvJVbOZbvM"
      },
      "outputs": [],
      "source": [
        "distance_df = pd.read_excel(\"distance.xlsx\", header=0, usecols = \"B : P\", skiprows = 0)"
      ]
    },
    {
      "cell_type": "code",
      "execution_count": null,
      "metadata": {
        "id": "kyL2mjs2a8RN"
      },
      "outputs": [],
      "source": [
        "distance_df"
      ]
    },
    {
      "cell_type": "code",
      "execution_count": 5,
      "metadata": {
        "colab": {
          "base_uri": "https://localhost:8080/"
        },
        "id": "FNBcnDGtbs94",
        "outputId": "02fe8e54-f620-42fe-dd96-218206bdc6d9"
      },
      "outputs": [
        {
          "data": {
            "text/plain": [
              "(15, 15)"
            ]
          },
          "execution_count": 5,
          "metadata": {},
          "output_type": "execute_result"
        }
      ],
      "source": [
        "distance_df.shape"
      ]
    },
    {
      "cell_type": "code",
      "execution_count": 6,
      "metadata": {
        "id": "uhHu9jRDZsiY"
      },
      "outputs": [],
      "source": [
        "distance_array = distance_df.to_numpy()"
      ]
    },
    {
      "cell_type": "code",
      "execution_count": null,
      "metadata": {
        "id": "wNcPlUowZt9O"
      },
      "outputs": [],
      "source": [
        "distance_array"
      ]
    },
    {
      "cell_type": "markdown",
      "metadata": {
        "id": "l7oZpDoy0MeN"
      },
      "source": [
        "### Random Walk"
      ]
    },
    {
      "cell_type": "code",
      "execution_count": 46,
      "metadata": {
        "id": "iPBv4j6kdZIZ"
      },
      "outputs": [],
      "source": [
        "start = 0\n",
        "def random_path(graph):\n",
        "  N = 14\n",
        "  path = []\n",
        "  path.append(0)\n",
        "  cities_No = list(range(len(graph)))\n",
        "  # print(len(cities_No)) #14\n",
        "\n",
        "  for i in range(N):\n",
        "    randval = random.randint(1, len(cities_No)-1)\n",
        "    randomCity = cities_No[randval]\n",
        "    path.append(randomCity)\n",
        "    cities_No.remove(randomCity)\n",
        "\n",
        "  return path"
      ]
    },
    {
      "cell_type": "code",
      "execution_count": 10,
      "metadata": {
        "id": "da61YBj5XTL-"
      },
      "outputs": [],
      "source": [
        "def path_distance(graph, path):\n",
        "  N = 15\n",
        "  distance = 0\n",
        "  for i in range(N):\n",
        "    distance += graph[path[i-1]][path[i]]\n",
        "  \n",
        "  return distance"
      ]
    },
    {
      "cell_type": "code",
      "execution_count": 64,
      "metadata": {
        "id": "bSbVvB6RY0o2"
      },
      "outputs": [],
      "source": [
        "def Random_walk():\n",
        "  iterations = 100\n",
        "  min_dis = maxsize\n",
        "  # PLOT: define x_list, y_list\n",
        "  x_list = []\n",
        "  y_list = []\n",
        "  for i in range(iterations):\n",
        "    path = random_path(distance_array)  \n",
        "    dis = path_distance(distance_array, path)\n",
        "    if(dis < min_dis):  min_dis = dis\n",
        "\n",
        "    # PLOT: append i to x_list/ min_dis to y_list\n",
        "    x_list.append(i)\n",
        "    y_list.append(min_dis)\n",
        "\n",
        "  return min_dis, x_list, y_list"
      ]
    },
    {
      "cell_type": "code",
      "execution_count": 151,
      "metadata": {
        "colab": {
          "base_uri": "https://localhost:8080/"
        },
        "id": "wwRhc9yAelt0",
        "outputId": "eab77506-6227-40b9-adf3-6e956bee4bde"
      },
      "outputs": [
        {
          "name": "stdout",
          "output_type": "stream",
          "text": [
            "Random Walk optimal:  2198.0\n",
            "RA_x:  [0, 1, 2, 3, 4, 5, 6, 7, 8, 9, 10, 11, 12, 13, 14, 15, 16, 17, 18, 19, 20, 21, 22, 23, 24, 25, 26, 27, 28, 29, 30, 31, 32, 33, 34, 35, 36, 37, 38, 39, 40, 41, 42, 43, 44, 45, 46, 47, 48, 49, 50, 51, 52, 53, 54, 55, 56, 57, 58, 59, 60, 61, 62, 63, 64, 65, 66, 67, 68, 69, 70, 71, 72, 73, 74, 75, 76, 77, 78, 79, 80, 81, 82, 83, 84, 85, 86, 87, 88, 89, 90, 91, 92, 93, 94, 95, 96, 97, 98, 99]\n",
            "RA_y:  [2815.0, 2815.0, 2815.0, 2385.0, 2385.0, 2385.0, 2385.0, 2385.0, 2385.0, 2385.0, 2385.0, 2385.0, 2385.0, 2385.0, 2385.0, 2385.0, 2385.0, 2385.0, 2385.0, 2385.0, 2385.0, 2385.0, 2385.0, 2385.0, 2385.0, 2385.0, 2385.0, 2385.0, 2198.0, 2198.0, 2198.0, 2198.0, 2198.0, 2198.0, 2198.0, 2198.0, 2198.0, 2198.0, 2198.0, 2198.0, 2198.0, 2198.0, 2198.0, 2198.0, 2198.0, 2198.0, 2198.0, 2198.0, 2198.0, 2198.0, 2198.0, 2198.0, 2198.0, 2198.0, 2198.0, 2198.0, 2198.0, 2198.0, 2198.0, 2198.0, 2198.0, 2198.0, 2198.0, 2198.0, 2198.0, 2198.0, 2198.0, 2198.0, 2198.0, 2198.0, 2198.0, 2198.0, 2198.0, 2198.0, 2198.0, 2198.0, 2198.0, 2198.0, 2198.0, 2198.0, 2198.0, 2198.0, 2198.0, 2198.0, 2198.0, 2198.0, 2198.0, 2198.0, 2198.0, 2198.0, 2198.0, 2198.0, 2198.0, 2198.0, 2198.0, 2198.0, 2198.0, 2198.0, 2198.0, 2198.0]\n"
          ]
        }
      ],
      "source": [
        "res_dis, RA_x, RA_y = Random_walk()\n",
        "print(\"Random Walk optimal: \", res_dis)\n",
        "print(\"RA_x: \", RA_x)\n",
        "print(\"RA_y: \", RA_y)"
      ]
    },
    {
      "cell_type": "markdown",
      "metadata": {
        "id": "7WBuIBSCvuLf"
      },
      "source": [
        "### Hill Climbing"
      ]
    },
    {
      "cell_type": "code",
      "execution_count": 157,
      "metadata": {
        "id": "RyWY_aQH1ran"
      },
      "outputs": [],
      "source": [
        "def findNeighbors(path):\n",
        "    N = 15\n",
        "    neighbors = []\n",
        "\n",
        "    for i in range(1, N): # skip 0\n",
        "        for j in range(i + 1, N):\n",
        "            neighbor = path.copy()\n",
        "            neighbor[i], neighbor[j] = path[j], path[i] # Move: swap\n",
        "            neighbors.append(neighbor)\n",
        "    \n",
        "    return neighbors"
      ]
    },
    {
      "cell_type": "code",
      "execution_count": 158,
      "metadata": {
        "id": "7aLDr0U6AVpG"
      },
      "outputs": [],
      "source": [
        "def getBestNeighbor(graph, neighbors):\n",
        "  # initialize best distance to MAX\n",
        "  bestDistance = maxsize\n",
        "  # initialize best neighbor with 0'th neighbor\n",
        "  bestNeighbor = neighbors[0]\n",
        "\n",
        "  for neighbor in neighbors:\n",
        "      currentPathDistance = path_distance(graph, neighbor)\n",
        "      if currentPathDistance < bestDistance:\n",
        "          bestNeighbor = neighbor\n",
        "          bestDistance = currentPathDistance\n",
        "\n",
        "  return bestNeighbor, bestDistance"
      ]
    },
    {
      "cell_type": "code",
      "execution_count": 159,
      "metadata": {
        "id": "CO5PgucJ0cZR"
      },
      "outputs": [],
      "source": [
        "def hillclimbing(graph):\n",
        "  currentPath = random_path(graph)\n",
        "  currentDistance = path_distance(graph, currentPath)\n",
        "  neighbors = findNeighbors(currentPath)\n",
        "  bestNeighbor, bestNeighborDistance = getBestNeighbor(graph, neighbors)\n",
        "\n",
        "  while bestNeighborDistance < currentDistance:\n",
        "      currentPath = bestNeighbor\n",
        "      currentDistance = bestNeighborDistance\n",
        "      neighbors = findNeighbors(currentPath)\n",
        "      bestNeighbor, bestNeighborDistance = getBestNeighbor(graph, neighbors)\n",
        "\n",
        "  return currentPath, currentDistance"
      ]
    },
    {
      "cell_type": "code",
      "execution_count": 160,
      "metadata": {
        "id": "ckPjvKr2xDWP"
      },
      "outputs": [],
      "source": [
        "def Hill():\n",
        "  iterations = 100\n",
        "  best_distance = maxsize\n",
        "\n",
        "  # PLOT: define x_list, y_list\n",
        "  x_list = []\n",
        "  y_list = []\n",
        "\n",
        "  for i in range(iterations):\n",
        "    hill_path, hill_dis = hillclimbing(distance_array)\n",
        "    if hill_dis < best_distance:\n",
        "      best_distance = hill_dis\n",
        "\n",
        "    # PLOT: append i to x_list/ best_distance to y_list\n",
        "    x_list.append(i)\n",
        "    y_list.append(best_distance)\n",
        "\n",
        "  return hill_path, best_distance, x_list, y_list"
      ]
    },
    {
      "cell_type": "code",
      "execution_count": 161,
      "metadata": {
        "colab": {
          "base_uri": "https://localhost:8080/"
        },
        "id": "JbAaR1iBQlib",
        "outputId": "6a6c2610-09bb-4873-a146-c8b28e39324c"
      },
      "outputs": [
        {
          "name": "stdout",
          "output_type": "stream",
          "text": [
            "Hill-climbing path:  [0, 13, 8, 5, 14, 11, 10, 2, 7, 3, 4, 9, 6, 12, 1]\n",
            "Hill-climbing optimal:  1332.0 km\n",
            "Hill_x:  [0, 1, 2, 3, 4, 5, 6, 7, 8, 9, 10, 11, 12, 13, 14, 15, 16, 17, 18, 19, 20, 21, 22, 23, 24, 25, 26, 27, 28, 29, 30, 31, 32, 33, 34, 35, 36, 37, 38, 39, 40, 41, 42, 43, 44, 45, 46, 47, 48, 49, 50, 51, 52, 53, 54, 55, 56, 57, 58, 59, 60, 61, 62, 63, 64, 65, 66, 67, 68, 69, 70, 71, 72, 73, 74, 75, 76, 77, 78, 79, 80, 81, 82, 83, 84, 85, 86, 87, 88, 89, 90, 91, 92, 93, 94, 95, 96, 97, 98, 99]\n",
            "Hill_y:  [1859.0, 1496.0, 1366.0, 1366.0, 1366.0, 1366.0, 1366.0, 1366.0, 1366.0, 1366.0, 1357.0, 1357.0, 1357.0, 1357.0, 1357.0, 1348.0, 1348.0, 1348.0, 1348.0, 1348.0, 1348.0, 1348.0, 1348.0, 1348.0, 1348.0, 1348.0, 1348.0, 1348.0, 1348.0, 1348.0, 1348.0, 1348.0, 1348.0, 1348.0, 1348.0, 1348.0, 1348.0, 1348.0, 1348.0, 1348.0, 1348.0, 1348.0, 1348.0, 1348.0, 1348.0, 1348.0, 1348.0, 1348.0, 1332.0, 1332.0, 1332.0, 1332.0, 1332.0, 1332.0, 1332.0, 1332.0, 1332.0, 1332.0, 1332.0, 1332.0, 1332.0, 1332.0, 1332.0, 1332.0, 1332.0, 1332.0, 1332.0, 1332.0, 1332.0, 1332.0, 1332.0, 1332.0, 1332.0, 1332.0, 1332.0, 1332.0, 1332.0, 1332.0, 1332.0, 1332.0, 1332.0, 1332.0, 1332.0, 1332.0, 1332.0, 1332.0, 1332.0, 1332.0, 1332.0, 1332.0, 1332.0, 1332.0, 1332.0, 1332.0, 1332.0, 1332.0, 1332.0, 1332.0, 1332.0, 1332.0]\n"
          ]
        }
      ],
      "source": [
        "res_path, res_dis, Hill_x, Hill_y = Hill()\n",
        "print(\"Hill-climbing path: \", res_path)\n",
        "print(\"Hill-climbing optimal: \", res_dis, \"km\")\n",
        "print(\"Hill_x: \", Hill_x)\n",
        "print(\"Hill_y: \", Hill_y)"
      ]
    },
    {
      "cell_type": "markdown",
      "metadata": {
        "id": "WT2WQaLKrVOO"
      },
      "source": [
        "### Tabu Search"
      ]
    },
    {
      "cell_type": "code",
      "execution_count": 18,
      "metadata": {
        "id": "L_5dWMj2O18r"
      },
      "outputs": [],
      "source": [
        "from itertools import combinations"
      ]
    },
    {
      "cell_type": "code",
      "execution_count": 19,
      "metadata": {
        "id": "90EdFLIkOw5v"
      },
      "outputs": [],
      "source": [
        "def getTabuList(currentPath):\n",
        "        '''\n",
        "        Returns a dict of tabu attributes(pair of jobs that are swapped) as keys and [visit_idx, distance]\n",
        "        Only record the pair to be swapped, \"not really\" swapped.\n",
        "        '''\n",
        "        dict = {}\n",
        "        for swap in combinations(currentPath, 2):\n",
        "          if swap[0] != 0 and swap[1] != 0:\n",
        "            dict[swap] = {\"visit_idx\": 0, \"distance\": 0}\n",
        "        return dict"
      ]
    },
    {
      "cell_type": "code",
      "execution_count": 21,
      "metadata": {
        "id": "7aOTNRth6yaU"
      },
      "outputs": [],
      "source": [
        "def Swap(currentPath, pair):\n",
        "  swapped_path = currentPath.copy()\n",
        "  idx_i = swapped_path.index(pair[0])\n",
        "  idx_j = swapped_path.index(pair[1])\n",
        "  swapped_path[idx_i], swapped_path[idx_j] = swapped_path[idx_j], swapped_path[idx_i]\n",
        "  return swapped_path"
      ]
    },
    {
      "cell_type": "code",
      "execution_count": 79,
      "metadata": {
        "id": "8-AM1NUyQv0Y"
      },
      "outputs": [],
      "source": [
        "def Tabu(graph):\n",
        "  iterations = 100\n",
        "  tabu_tenure = 10\n",
        "  tabu_list = [] # record the swap-pair in tabu list\n",
        "\n",
        "  # initialize the best point\n",
        "  bestPath = random_path(distance_array)\n",
        "  bestDistance = path_distance(distance_array, bestPath)\n",
        "  # initialize the starting point\n",
        "  currentPath = random_path(distance_array) \n",
        "  currentDistance = path_distance(distance_array, currentPath)\n",
        "\n",
        "  # PLOT: define x_list, y_list\n",
        "  x_list = []\n",
        "  y_list = []\n",
        "  \n",
        "  iter = 0\n",
        "  iter_ = 1\n",
        "  while iter < iterations:\n",
        "    # Set tabu list\n",
        "    tabu_list = getTabuList(currentPath)\n",
        "    for pair in tabu_list:\n",
        "      runPath = Swap(currentPath, pair)\n",
        "      runDistance = path_distance(distance_array, runPath) # ptest.y\n",
        "      tabu_list[pair][\"distance\"] = runDistance\n",
        "\n",
        "    while True:\n",
        "      # Check acceptable cases\n",
        "      tabu_best_path = min(tabu_list, key =lambda x: tabu_list[x][\"distance\"]) \n",
        "      path_dis = tabu_list[tabu_best_path][\"distance\"] # the minimum distance in all the neighbors.\n",
        "      visit_idx = tabu_list[tabu_best_path][\"visit_idx\"]\n",
        "\n",
        "      if visit_idx < iter_:\n",
        "        # Start to move\n",
        "        currentPath = Swap(currentPath, tabu_best_path) \n",
        "        currentDistance = path_distance(distance_array, currentPath)\n",
        "        \n",
        "        if path_dis < bestDistance:\n",
        "          bestPath = currentPath\n",
        "          bestDistance = currentDistance\n",
        "        \n",
        "        tabu_list[tabu_best_path][\"visit_idx\"] = tabu_tenure + iter_\n",
        "        iter += 1\n",
        "        iter_ += 1\n",
        "        \n",
        "        break\n",
        "\n",
        "      # Update tabu list (already in tabu list)\n",
        "      else:\n",
        "        if path_dis < bestDistance:\n",
        "          # start to move\n",
        "          currentPath = Swap(currentPath, tabu_best_path) \n",
        "          currentDistance = path_distance(currentPath)\n",
        "          # print(\"cur Path: \",currentPath)\n",
        "          bestPath = currentPath\n",
        "          bestDistance = currentDistance\n",
        "\n",
        "          iter_ += 1\n",
        "          \n",
        "          break\n",
        "        else:\n",
        "          tabu_list[tabu_best_path][\"distance\"] = maxsize\n",
        "          continue\n",
        "\n",
        "    # PLOT: append i to x_list/ bestDistance to y_list\n",
        "    x_list.append(iter)\n",
        "    y_list.append(bestDistance)\n",
        "\n",
        "  return bestPath, bestDistance, x_list, y_list"
      ]
    },
    {
      "cell_type": "code",
      "execution_count": 77,
      "metadata": {
        "colab": {
          "base_uri": "https://localhost:8080/"
        },
        "id": "aWJGU51D0oYc",
        "outputId": "7816624d-ede7-444b-8c39-b9327f0db8a4"
      },
      "outputs": [
        {
          "name": "stdout",
          "output_type": "stream",
          "text": [
            "Tabu Search path:  [0, 9, 4, 10, 2, 7, 3, 12, 1, 6, 13, 8, 5, 11, 14]\n",
            "Tabu Search optimal:  1707.0 km\n",
            "Tabu_x:  [1, 2, 3, 4, 5, 6, 7, 8, 9, 10, 11, 12, 13, 14, 15, 16, 17, 18, 19, 20, 21, 22, 23, 24, 25, 26, 27, 28, 29, 30, 31, 32, 33, 34, 35, 36, 37, 38, 39, 40, 41, 42, 43, 44, 45, 46, 47, 48, 49, 50, 51, 52, 53, 54, 55, 56, 57, 58, 59, 60, 61, 62, 63, 64, 65, 66, 67, 68, 69, 70, 71, 72, 73, 74, 75, 76, 77, 78, 79, 80, 81, 82, 83, 84, 85, 86, 87, 88, 89, 90, 91, 92, 93, 94, 95, 96, 97, 98, 99, 100]\n",
            "Tabu_y:  [2427.0, 2096.0, 1942.0, 1836.0, 1791.0, 1775.0, 1766.0, 1740.0, 1729.0, 1707.0, 1707.0, 1707.0, 1707.0, 1707.0, 1707.0, 1707.0, 1707.0, 1707.0, 1707.0, 1707.0, 1707.0, 1707.0, 1707.0, 1707.0, 1707.0, 1707.0, 1707.0, 1707.0, 1707.0, 1707.0, 1707.0, 1707.0, 1707.0, 1707.0, 1707.0, 1707.0, 1707.0, 1707.0, 1707.0, 1707.0, 1707.0, 1707.0, 1707.0, 1707.0, 1707.0, 1707.0, 1707.0, 1707.0, 1707.0, 1707.0, 1707.0, 1707.0, 1707.0, 1707.0, 1707.0, 1707.0, 1707.0, 1707.0, 1707.0, 1707.0, 1707.0, 1707.0, 1707.0, 1707.0, 1707.0, 1707.0, 1707.0, 1707.0, 1707.0, 1707.0, 1707.0, 1707.0, 1707.0, 1707.0, 1707.0, 1707.0, 1707.0, 1707.0, 1707.0, 1707.0, 1707.0, 1707.0, 1707.0, 1707.0, 1707.0, 1707.0, 1707.0, 1707.0, 1707.0, 1707.0, 1707.0, 1707.0, 1707.0, 1707.0, 1707.0, 1707.0, 1707.0, 1707.0, 1707.0, 1707.0]\n"
          ]
        }
      ],
      "source": [
        "res_path, res_dis, Tabu_x, Tabu_y = Tabu(distance_array)\n",
        "print(\"Tabu Search path: \", res_path)\n",
        "print(\"Tabu Search optimal: \", res_dis, \"km\")\n",
        "print(\"Tabu_x: \", Tabu_x)\n",
        "print(\"Tabu_y: \", Tabu_y)"
      ]
    },
    {
      "cell_type": "markdown",
      "metadata": {
        "id": "YzQ7w0Wn6SPx"
      },
      "source": [
        "### Simulated Annealing"
      ]
    },
    {
      "cell_type": "code",
      "execution_count": 101,
      "metadata": {
        "id": "ET2cOAR9RIlf"
      },
      "outputs": [],
      "source": [
        "def getTemp(t, temp, iterations):\n",
        "  res = (1 - t/(iterations))*temp\n",
        "  return res"
      ]
    },
    {
      "cell_type": "code",
      "execution_count": 162,
      "metadata": {
        "id": "trPPgyeI6XvX"
      },
      "outputs": [],
      "source": [
        "def SA(graph):\n",
        "  # Parameters\n",
        "  t_initial = 1000\n",
        "  iterations = 100\n",
        "\n",
        "  pcur_x = random_path(distance_array)\n",
        "  pcur_y = path_distance(graph, pcur_x)\n",
        "  pb_x, pb_y = pcur_x, pcur_y\n",
        "\n",
        "  # PLOT: define x_list, y_list\n",
        "  x_list = []\n",
        "  y_list = []\n",
        "\n",
        "  t = 0\n",
        "  while t < iterations:\n",
        "        pcurx_neighbors = findNeighbors(pcur_x)\n",
        "        # print(\"pcurx_neighbors: \", pcurx_neighbors) # DEBUG\n",
        "        neighbor_idx = random.randint(0,len(pcurx_neighbors)-1)\n",
        "        # print(\"neighbor_idx: \", neighbor_idx) # DEBUG\n",
        "        pnew_x = pcurx_neighbors[neighbor_idx]\n",
        "        pnew_y = path_distance(graph, pnew_x)\n",
        "        dE = pnew_y - pcur_y\n",
        "        # print(\"dE: \", dE) # DEBUG: inf\n",
        "\n",
        "        if dE <= 0:\n",
        "            pcur_x, pcur_y = pnew_x, pnew_y  \n",
        "            if pcur_y < pb_y:\n",
        "                pb_x, pb_y = pcur_x, pcur_y\n",
        "        else:\n",
        "            T = getTemp(t, t_initial, iterations)\n",
        "            t_initial = T\n",
        "            if np.random.random(1) < np.exp(-dE/T):\n",
        "                pcur_x, pcur_y = pnew_x, pnew_y \n",
        "        \n",
        "        t += 1\n",
        "\n",
        "        # PLOT: append t to x_list/ pb_y to y_list\n",
        "        x_list.append(t)\n",
        "        y_list.append(pb_y)\n",
        "\n",
        "  return pb_x, pb_y, x_list, y_list\n"
      ]
    },
    {
      "cell_type": "code",
      "execution_count": 163,
      "metadata": {
        "colab": {
          "base_uri": "https://localhost:8080/"
        },
        "id": "Fc-9WKkyXeNK",
        "outputId": "4e2e5818-2505-4f04-ede2-529ccd89b355"
      },
      "outputs": [
        {
          "name": "stdout",
          "output_type": "stream",
          "text": [
            "Simulated Annealing path:  [0, 6, 9, 12, 1, 13, 3, 5, 8, 14, 11, 2, 7, 10, 4]\n",
            "Simulated Annealing optimal:  1877.0 km\n",
            "SA_x:  [1, 2, 3, 4, 5, 6, 7, 8, 9, 10, 11, 12, 13, 14, 15, 16, 17, 18, 19, 20, 21, 22, 23, 24, 25, 26, 27, 28, 29, 30, 31, 32, 33, 34, 35, 36, 37, 38, 39, 40, 41, 42, 43, 44, 45, 46, 47, 48, 49, 50, 51, 52, 53, 54, 55, 56, 57, 58, 59, 60, 61, 62, 63, 64, 65, 66, 67, 68, 69, 70, 71, 72, 73, 74, 75, 76, 77, 78, 79, 80, 81, 82, 83, 84, 85, 86, 87, 88, 89, 90, 91, 92, 93, 94, 95, 96, 97, 98, 99, 100]\n",
            "SA_y:  [2440.0, 2440.0, 2440.0, 2440.0, 2440.0, 2440.0, 2440.0, 2440.0, 2440.0, 2440.0, 2440.0, 2440.0, 2433.0, 2374.0, 2374.0, 2374.0, 2374.0, 2374.0, 2374.0, 2326.0, 2114.0, 2114.0, 2114.0, 2114.0, 2114.0, 2114.0, 2114.0, 2114.0, 2114.0, 2114.0, 2114.0, 2031.0, 1962.0, 1962.0, 1962.0, 1962.0, 1962.0, 1962.0, 1962.0, 1962.0, 1922.0, 1922.0, 1922.0, 1922.0, 1922.0, 1922.0, 1922.0, 1922.0, 1922.0, 1922.0, 1922.0, 1922.0, 1922.0, 1922.0, 1922.0, 1922.0, 1922.0, 1922.0, 1922.0, 1922.0, 1922.0, 1922.0, 1922.0, 1922.0, 1922.0, 1922.0, 1922.0, 1922.0, 1922.0, 1922.0, 1911.0, 1911.0, 1911.0, 1911.0, 1911.0, 1911.0, 1911.0, 1911.0, 1911.0, 1911.0, 1911.0, 1911.0, 1911.0, 1911.0, 1911.0, 1911.0, 1911.0, 1911.0, 1911.0, 1911.0, 1911.0, 1911.0, 1911.0, 1877.0, 1877.0, 1877.0, 1877.0, 1877.0, 1877.0, 1877.0]\n"
          ]
        }
      ],
      "source": [
        "res_x, res_y, SA_x, SA_y = SA(distance_array)\n",
        "print(\"Simulated Annealing path: \", res_x)\n",
        "print(\"Simulated Annealing optimal: \", res_y, \"km\")\n",
        "print(\"SA_x: \", SA_x)\n",
        "print(\"SA_y: \", SA_y)"
      ]
    },
    {
      "cell_type": "markdown",
      "metadata": {
        "id": "I_YrZlqDUl1g"
      },
      "source": [
        "### Ant Colony"
      ]
    },
    {
      "cell_type": "code",
      "execution_count": 28,
      "metadata": {
        "id": "JOk9g3i_Td4l"
      },
      "outputs": [],
      "source": [
        "from numpy.random import choice as np_choice"
      ]
    },
    {
      "cell_type": "code",
      "execution_count": 29,
      "metadata": {
        "id": "RnfK-8diGZ7i"
      },
      "outputs": [],
      "source": [
        "def pick_move(pheromone, dist, visited, alpha=1, beta=1):\n",
        "        all_inds = range(len(distance_array))\n",
        "        pheromone = np.copy(pheromone)\n",
        "        pheromone[list(visited)] = 0\n",
        "        row = pheromone ** alpha * ((1.0/dist) ** beta)\n",
        "        norm_row = row / row.sum()\n",
        "        move = np_choice(all_inds, 1, p=norm_row)[0]\n",
        "        return move"
      ]
    },
    {
      "cell_type": "code",
      "execution_count": 30,
      "metadata": {
        "id": "c6M0y52aIlZL"
      },
      "outputs": [],
      "source": [
        "def genPath(num_of_ants, pheromone):\n",
        "  path_list = []\n",
        "  for i in range(num_of_ants):\n",
        "      # path = gen_path(0)\n",
        "      path = []\n",
        "\n",
        "      visited = set()\n",
        "      visited.add(0) # start from 0\n",
        "      prev = 0\n",
        "      for i in range(len(distance_array) - 1): \n",
        "          move = pick_move(pheromone[prev], distance_array[prev], visited)\n",
        "          path.append((prev, move))\n",
        "          prev = move\n",
        "          visited.add(move)\n",
        "      path.append((prev, start)) # a new path has been created.\n",
        "\n",
        "      # Calculate the distance of path\n",
        "      total_dist = 0\n",
        "      for i in path:\n",
        "          total_dist += distance_array[i]\n",
        "      # add paths to the path list\n",
        "      path_list.append((path, total_dist)) \n",
        "\n",
        "  return path_list"
      ]
    },
    {
      "cell_type": "code",
      "execution_count": 31,
      "metadata": {
        "id": "ie6p4Ph4rxg3"
      },
      "outputs": [],
      "source": [
        "def spread_pheronome(pheromone, all_paths, n_best):\n",
        "        sorted_paths = sorted(all_paths, key=lambda x: x[1])\n",
        "        for path, dist in sorted_paths[:n_best]:\n",
        "            for move in path:\n",
        "                pheromone[move] = pheromone[move] +  (1.0/distance_array[move])"
      ]
    },
    {
      "cell_type": "code",
      "execution_count": 87,
      "metadata": {
        "id": "CON2mLLiUqrb"
      },
      "outputs": [],
      "source": [
        "def Ant(graph):\n",
        "  for i in range(15):\n",
        "    distance_array[i,i] = np.inf\n",
        "  \n",
        "  pheromone = np.ones(distance_array.shape)/len(distance_array)\n",
        "  iterations = 100\n",
        "  num_of_ants = 30\n",
        "  n_best = 3\n",
        "  decay = 0.9\n",
        "  all_time_shortest_path = (\"placeholder\", np.inf)\n",
        "  shortest_path = []\n",
        "  \n",
        "  # PLOT: define x_list, y_list\n",
        "  x_list = []\n",
        "  y_list = []\n",
        "\n",
        "  t = 0\n",
        "  while t < iterations:\n",
        "      all_paths = genPath(num_of_ants, pheromone)\n",
        "      spread_pheronome(pheromone, all_paths, n_best)\n",
        "      shortest_path = min(all_paths, key=lambda x: x[1])\n",
        "      \n",
        "      if shortest_path[1] < all_time_shortest_path[1]:\n",
        "          all_time_shortest_path = shortest_path \n",
        "          t += 1   \n",
        "          pheromone *= decay \n",
        "      else:\n",
        "          t += 1       \n",
        "          pheromone *= decay   \n",
        "\n",
        "      # PLOT: append t to x_list/ all_time_shortest_path[1] to y_list\n",
        "      x_list.append(t)\n",
        "      y_list.append(all_time_shortest_path[1]) \n",
        "\n",
        "  return all_time_shortest_path[0],  all_time_shortest_path[1], x_list, y_list"
      ]
    },
    {
      "cell_type": "code",
      "execution_count": 88,
      "metadata": {
        "id": "I1uZG14RUt8Z"
      },
      "outputs": [],
      "source": [
        "res_path, res_dis, Ant_x, Ant_y = Ant(distance_array)"
      ]
    },
    {
      "cell_type": "code",
      "execution_count": 89,
      "metadata": {
        "colab": {
          "base_uri": "https://localhost:8080/"
        },
        "id": "g5AInejmuhom",
        "outputId": "e4ad98ee-c7ef-4d13-ed04-e7014203144d"
      },
      "outputs": [
        {
          "name": "stdout",
          "output_type": "stream",
          "text": [
            "Ant Colony path:  [(0, 6), (6, 13), (13, 4), (4, 8), (8, 5), (5, 14), (14, 11), (11, 10), (10, 2), (2, 7), (7, 3), (3, 9), (9, 12), (12, 1), (1, 0)]\n",
            "Ant Colony optimal:  1347.0 km\n",
            "Ant_x:  [1, 2, 3, 4, 5, 6, 7, 8, 9, 10, 11, 12, 13, 14, 15, 16, 17, 18, 19, 20, 21, 22, 23, 24, 25, 26, 27, 28, 29, 30, 31, 32, 33, 34, 35, 36, 37, 38, 39, 40, 41, 42, 43, 44, 45, 46, 47, 48, 49, 50, 51, 52, 53, 54, 55, 56, 57, 58, 59, 60, 61, 62, 63, 64, 65, 66, 67, 68, 69, 70, 71, 72, 73, 74, 75, 76, 77, 78, 79, 80, 81, 82, 83, 84, 85, 86, 87, 88, 89, 90, 91, 92, 93, 94, 95, 96, 97, 98, 99, 100]\n",
            "Ant_y:  [2011.0, 1952.0, 1810.0, 1703.0, 1703.0, 1703.0, 1703.0, 1538.0, 1538.0, 1538.0, 1504.0, 1504.0, 1504.0, 1504.0, 1504.0, 1450.0, 1386.0, 1375.0, 1375.0, 1372.0, 1372.0, 1372.0, 1372.0, 1372.0, 1372.0, 1372.0, 1372.0, 1372.0, 1350.0, 1347.0, 1347.0, 1347.0, 1347.0, 1347.0, 1347.0, 1347.0, 1347.0, 1347.0, 1347.0, 1347.0, 1347.0, 1347.0, 1347.0, 1347.0, 1347.0, 1347.0, 1347.0, 1347.0, 1347.0, 1347.0, 1347.0, 1347.0, 1347.0, 1347.0, 1347.0, 1347.0, 1347.0, 1347.0, 1347.0, 1347.0, 1347.0, 1347.0, 1347.0, 1347.0, 1347.0, 1347.0, 1347.0, 1347.0, 1347.0, 1347.0, 1347.0, 1347.0, 1347.0, 1347.0, 1347.0, 1347.0, 1347.0, 1347.0, 1347.0, 1347.0, 1347.0, 1347.0, 1347.0, 1347.0, 1347.0, 1347.0, 1347.0, 1347.0, 1347.0, 1347.0, 1347.0, 1347.0, 1347.0, 1347.0, 1347.0, 1347.0, 1347.0, 1347.0, 1347.0, 1347.0]\n"
          ]
        }
      ],
      "source": [
        "print(\"Ant Colony path: \", res_path)\n",
        "print(\"Ant Colony optimal: \", res_dis, \"km\")\n",
        "print(\"Ant_x: \", Ant_x)\n",
        "print(\"Ant_y: \", Ant_y)"
      ]
    },
    {
      "cell_type": "markdown",
      "metadata": {
        "id": "2MtMxM5yV2Yr"
      },
      "source": [
        "### Plot "
      ]
    },
    {
      "cell_type": "code",
      "execution_count": 44,
      "metadata": {
        "id": "5bLdz3rRY34t"
      },
      "outputs": [],
      "source": [
        "import matplotlib.pyplot as plt"
      ]
    },
    {
      "cell_type": "code",
      "execution_count": 152,
      "metadata": {
        "colab": {
          "base_uri": "https://localhost:8080/",
          "height": 0
        },
        "id": "SvTl-unL2Zsd",
        "outputId": "705b77e9-4a43-4448-c92b-14f385535273"
      },
      "outputs": [
        {
          "data": {
            "image/png": "[encoded data removed]",
            "text/plain": [
              "<Figure size 432x288 with 1 Axes>"
            ]
          },
          "metadata": {
            "needs_background": "light"
          },
          "output_type": "display_data"
        }
      ],
      "source": [
        "# Random Walk\n",
        "RA_dis, RA_x, RA_y = Random_walk() \n",
        "plt.plot(RA_x, RA_y)\n",
        "\n",
        "# Hill Climbing\n",
        "res_path, res_dis, Hill_x, Hill_y = Hill()\n",
        "plt.plot(Hill_x, Hill_y)\n",
        "\n",
        "# Tabu Search\n",
        "res_path, res_dis, Tabu_x, Tabu_y = Tabu(distance_array)\n",
        "plt.plot(Tabu_x, Tabu_y)\n",
        "\n",
        "# Simulated Annealing\n",
        "res_x, res_y, SA_x, SA_y = SA(distance_array)\n",
        "plt.plot(SA_x, SA_y)\n",
        "\n",
        "# Ant Colony\n",
        "res_path, res_dis, Ant_x, Ant_y = Ant(distance_array)\n",
        "plt.plot(Ant_x, Ant_y)\n",
        "\n",
        "plt.ylabel(\"Best distance\")\n",
        "plt.xlabel(\"Iterations\")\n",
        "plt.legend(([\"Random Walk\", \"Hill Climbing\", \"Tabu Search\", \"SA\", \"Ant Colony\"]))\n",
        "plt.show()"
      ]
    },
    {
      "cell_type": "markdown",
      "metadata": {
        "id": "Vb2HTvdlEgRk"
      },
      "source": [
        "### Comments\n",
        "As the picture above, after 100 iterations, the performance of Hill Climbing has the fastest speed to converge and reach the optimal solution. \n",
        "\n",
        "**1.   Hill Climbing**\n",
        "\n",
        "\n",
        "*   Strength: It's a simple and fast algorithm. \n",
        "*   Weakness: However, it doesn't allow walking in a poor direction, which makes it easier to fall into the valley(local optimal) and can't jump out.\n",
        "\n",
        "\n",
        "**2.   Random Walk**\n",
        "\n",
        "\n",
        "*   Strength: Unlike Hill Climbing, it doesn't guided by the objective function.\n",
        "*   Weakness: However, its performance is worse than Hill Climbing.\n",
        "\n",
        "\n",
        "**3.   Simulated Annealing**\n",
        "\n",
        "*   Strength: It improves some of the defects of Hill Climbing, allowing it to jump out of the poor locations.\n",
        "*   Weakness: The setting of the initial temperature, temperature scheduling has a crucial role on the SA result. That is, the choose of these parameters may lead to totally different results.\n",
        "\n",
        "\n",
        "**4.   Tabu Search**\n",
        "\n",
        "*   Strength: As we can observe in the picture, Tabu Search has a fast convergence speed. Besides, it avoids repeated visit to the same point.\n",
        "*   Weakness: It's easy to be stuck in the valley(local optimal).\n",
        "\n",
        "\n",
        "**5.   Ant Colony**\n",
        "\n",
        "*   Strength: It can quickly find the optimal solution.\n",
        "*   Weakness: Time consuming and the update step is too slow.\n",
        "\n"
      ]
    }
  ],
  "metadata": {
    "colab": {
      "collapsed_sections": [
        "FtDF-17hU-dV",
        "l7oZpDoy0MeN",
        "7WBuIBSCvuLf",
        "WT2WQaLKrVOO",
        "YzQ7w0Wn6SPx",
        "I_YrZlqDUl1g"
      ],
      "provenance": []
    },
    "kernelspec": {
      "display_name": "Python 3",
      "name": "python3"
    },
    "language_info": {
      "name": "python"
    }
  },
  "nbformat": 4,
  "nbformat_minor": 0
}
