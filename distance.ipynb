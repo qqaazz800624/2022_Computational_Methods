{
  "cells": [
    {
      "cell_type": "code",
      "execution_count": 40,
      "metadata": {
        "id": "HHSDgYT9ZKYG"
      },
      "outputs": [],
      "source": [
        "import numpy as np\n",
        "import pandas as pd"
      ]
    },
    {
      "cell_type": "code",
      "execution_count": 41,
      "metadata": {
        "id": "Bj_IXOfgcQp1"
      },
      "outputs": [],
      "source": [
        "np.set_printoptions(linewidth=500, suppress=True)"
      ]
    },
    {
      "cell_type": "code",
      "execution_count": 32,
      "metadata": {
        "id": "8DvvJVbOZbvM"
      },
      "outputs": [],
      "source": [
        "distance_df = pd.read_excel(\"distance.xlsx\", header=0, usecols = \"B : P\", skiprows = 0)"
      ]
    },
    {
      "cell_type": "code",
      "execution_count": 35,
      "metadata": {
        "id": "uhHu9jRDZsiY"
      },
      "outputs": [],
      "source": [
        "distance_array = distance_df.to_numpy()"
      ]
    },
    {
      "cell_type": "code",
      "execution_count": 42,
      "metadata": {
        "colab": {
          "base_uri": "https://localhost:8080/"
        },
        "id": "wNcPlUowZt9O",
        "outputId": "99e78703-da88-4a06-a0a8-ba716a7f55e2"
      },
      "outputs": [
        {
          "data": {
            "text/plain": [
              "array([[ nan,  27., 335., 244., 141., 257.,  33., 316., 186., 115., 304., 439., 102.,  95., 275.],\n",
              "       [ 27.,  nan, 330., 237., 144., 268.,  31., 307., 195., 113., 301., 453.,  75., 111., 290.],\n",
              "       [335., 330.,  nan,  95., 199., 193., 304.,  54., 189., 221.,  35., 291., 330., 271., 233.],\n",
              "       [244., 237.,  95.,  nan, 117., 171., 212.,  75., 130., 130.,  72., 324., 236., 191., 215.],\n",
              "       [141., 144., 199., 117.,  nan, 137., 114., 192.,  61.,  36., 167., 323., 175.,  74., 171.],\n",
              "       [257., 268., 193., 171., 137.,  nan, 238., 222.,  77., 173., 161., 186., 311., 162.,  44.],\n",
              "       [ 33.,  31., 304., 212., 114., 238.,  nan, 284., 164.,  84., 274., 423.,  91.,  83., 260.],\n",
              "       [316., 307.,  54.,  75., 192., 222., 284.,  nan, 198., 205.,  67., 341., 296., 266., 265.],\n",
              "       [186., 195., 189., 130.,  61.,  77., 164., 198.,  nan,  96., 154., 263., 234.,  97., 111.],\n",
              "       [115., 113., 221., 130.,  36., 173.,  84., 205.,  96.,  nan, 190., 359., 139.,  74., 205.],\n",
              "       [304., 301.,  35.,  72., 167., 161., 274.,  67., 154., 190.,  nan, 275., 306., 237., 202.],\n",
              "       [439., 453., 291., 324., 323., 186., 423., 341., 263., 359., 275.,  nan, 498., 344., 165.],\n",
              "       [102.,  75., 330., 236., 175., 311.,  91., 296., 234., 139., 306., 498.,  nan, 170., 340.],\n",
              "       [ 95., 111., 271., 191.,  74., 162.,  83., 266.,  97.,  74., 237., 344., 170.,  nan, 180.],\n",
              "       [275., 290., 233., 215., 171.,  44., 260., 265., 111., 205., 202., 165., 340., 180.,  nan]])"
            ]
          },
          "execution_count": 42,
          "metadata": {},
          "output_type": "execute_result"
        }
      ],
      "source": [
        "distance_array"
      ]
    }
  ],
  "metadata": {
    "colab": {
      "provenance": []
    },
    "kernelspec": {
      "display_name": "Python 3.9.12 ('base': conda)",
      "language": "python",
      "name": "python3"
    },
    "language_info": {
      "name": "python",
      "version": "3.9.12"
    },
    "vscode": {
      "interpreter": {
        "hash": "96eae71bec62eec19dc0a0bdfac0ad505e220fdd394139b7b91f743dfc64ac75"
      }
    }
  },
  "nbformat": 4,
  "nbformat_minor": 0
}
