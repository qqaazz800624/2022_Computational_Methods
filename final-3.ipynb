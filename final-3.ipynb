{
  "cells": [
    {
      "cell_type": "code",
      "execution_count": 3,
      "metadata": {
        "id": "cDnku15snrEK"
      },
      "outputs": [],
      "source": [
        "import math\n",
        "import random\n",
        "import itertools\n",
        "import numpy as np\n",
        "import pandas as pd\n",
        "from sys import maxsize\n",
        "import matplotlib.pyplot as plt"
      ]
    },
    {
      "cell_type": "markdown",
      "metadata": {
        "id": "KOhpVJtin56Y"
      },
      "source": [
        "### Data"
      ]
    },
    {
      "cell_type": "code",
      "execution_count": 5,
      "metadata": {
        "id": "nyegf_SPny88"
      },
      "outputs": [],
      "source": [
        "distance_df = pd.read_excel(\"distance-final.xlsx\", header=0, usecols = \"B : AF\", skiprows = 0)"
      ]
    },
    {
      "cell_type": "code",
      "execution_count": 6,
      "metadata": {
        "colab": {
          "base_uri": "https://localhost:8080/"
        },
        "id": "V59nqO6e4o98",
        "outputId": "f20ac238-ccc3-4903-d2ca-9a9fda28b7f2"
      },
      "outputs": [
        {
          "data": {
            "text/plain": [
              "(31, 31)"
            ]
          },
          "execution_count": 6,
          "metadata": {},
          "output_type": "execute_result"
        }
      ],
      "source": [
        "distance_df.shape"
      ]
    },
    {
      "cell_type": "code",
      "execution_count": 7,
      "metadata": {
        "id": "1aJj3ccgoXQ6"
      },
      "outputs": [],
      "source": [
        "distance_array = distance_df.to_numpy()"
      ]
    },
    {
      "cell_type": "markdown",
      "metadata": {
        "id": "Q-NP8eW_tDHb"
      },
      "source": [
        "### Generate random sequences"
      ]
    },
    {
      "cell_type": "code",
      "execution_count": 8,
      "metadata": {
        "id": "gmeOvqk0tBvZ"
      },
      "outputs": [],
      "source": [
        "cities_No = list(range(1,31))"
      ]
    },
    {
      "cell_type": "code",
      "execution_count": 9,
      "metadata": {
        "id": "CxZ9H-9OtSv-"
      },
      "outputs": [],
      "source": [
        "p = itertools.permutations(cities_No) # when use permutations, need auxiliary space: O(n*n!)"
      ]
    },
    {
      "cell_type": "code",
      "execution_count": 10,
      "metadata": {
        "id": "8S3ISAXUyL0m"
      },
      "outputs": [],
      "source": [
        "all_path_sequence = []\n",
        "i = 0\n",
        "count = 0\n",
        "seq0 = [0]\n",
        "\n",
        "for i in p:\n",
        "  if count >= 1000: break\n",
        "  else:\n",
        "    seq = list(i)\n",
        "    all_path_sequence.append(seq0 + seq)\n",
        "    count += 1"
      ]
    },
    {
      "cell_type": "code",
      "execution_count": null,
      "metadata": {
        "colab": {
          "base_uri": "https://localhost:8080/"
        },
        "id": "ss1pDyr-uT7S",
        "outputId": "59593abc-3b60-4d6a-e70f-dcb644889953"
      },
      "outputs": [],
      "source": [
        "# CHECK: all_path_sequence[0]~[10]\n",
        "for i in range(10):\n",
        "  print(all_path_sequence[i])"
      ]
    },
    {
      "cell_type": "markdown",
      "metadata": {
        "id": "3uU5T1B72r5j"
      },
      "source": [
        "### Calculate sequence distance"
      ]
    },
    {
      "cell_type": "code",
      "execution_count": 12,
      "metadata": {
        "id": "DZ-MUR0KzDEJ"
      },
      "outputs": [],
      "source": [
        "def path_distance(graph, seq):\n",
        "  N = 31\n",
        "  distance = 0\n",
        "  for i in range(N):\n",
        "    distance += graph[seq[i-1]][seq[i]]\n",
        "  \n",
        "  return distance/1000"
      ]
    },
    {
      "cell_type": "markdown",
      "metadata": {
        "id": "Or80ycWP5eFW"
      },
      "source": [
        "### 3.(c)"
      ]
    },
    {
      "cell_type": "code",
      "execution_count": 13,
      "metadata": {
        "id": "zwp8lLee5boH"
      },
      "outputs": [],
      "source": [
        "# Iterate through 1000 sequences, and get the distance\n",
        "all_distance = []\n",
        "for i in range(1000):\n",
        "  all_distance.append(path_distance(distance_array, all_path_sequence[i]))"
      ]
    },
    {
      "cell_type": "code",
      "execution_count": 14,
      "metadata": {
        "colab": {
          "base_uri": "https://localhost:8080/"
        },
        "id": "wCN1NDgn5s5n",
        "outputId": "5e3b4401-c9c7-4996-d4cb-b38485cb9a50"
      },
      "outputs": [
        {
          "name": "stdout",
          "output_type": "stream",
          "text": [
            "mean:  85.521471 km\n"
          ]
        }
      ],
      "source": [
        "from statistics import mean\n",
        "mean_dis = mean(all_distance)\n",
        "print(\"mean: \", mean_dis, \"km\") # set the mean as the threshold"
      ]
    },
    {
      "cell_type": "markdown",
      "metadata": {
        "id": "K2KHcQ4cuOGK"
      },
      "source": [
        "### 3.(d)"
      ]
    },
    {
      "cell_type": "code",
      "execution_count": 15,
      "metadata": {
        "colab": {
          "base_uri": "https://localhost:8080/"
        },
        "id": "bMqgjWxYNOrB",
        "outputId": "38b53276-6dfd-4187-d8c9-36da65abce61"
      },
      "outputs": [
        {
          "name": "stdout",
          "output_type": "stream",
          "text": [
            "1000\n"
          ]
        }
      ],
      "source": [
        "# Gen: 1000 unique sequences\n",
        "seq1000 = itertools.islice(p, 0, 1000000, 1000)\n",
        "\n",
        "seq0 = [0]\n",
        "all_path_sequence = []\n",
        "\n",
        "for i in seq1000:\n",
        "  seq = list(i)\n",
        "  all_path_sequence.append(seq0 + seq)\n",
        "\n",
        "print(len(all_path_sequence))"
      ]
    },
    {
      "cell_type": "code",
      "execution_count": 1,
      "metadata": {
        "id": "PgicHD0ZSLJi"
      },
      "outputs": [],
      "source": [
        "def reject_sampling(seq_list):\n",
        "    dis = path_distance(distance_array, seq_list)\n",
        "    if(dis < mean_dis): # f(x): mean_dis\n",
        "      return False\n",
        "    else: \n",
        "      prob = random.random()\n",
        "      if prob > 0.7:\n",
        "        return False\n",
        "      else: \n",
        "        return True"
      ]
    },
    {
      "cell_type": "code",
      "execution_count": 27,
      "metadata": {
        "colab": {
          "base_uri": "https://localhost:8080/"
        },
        "id": "h5bC8v-sWk_J",
        "outputId": "1833a754-7a48-4193-d6c7-459eb281ec45"
      },
      "outputs": [
        {
          "name": "stdout",
          "output_type": "stream",
          "text": [
            "1000\n"
          ]
        }
      ],
      "source": [
        "good_seq = []\n",
        "good_seq_ = []\n",
        "\n",
        "## Gen: another 1000 unique sequences\n",
        "seq1000_ = itertools.islice(p, 1000000, 2800000, 1000)\n",
        "\n",
        "## Reject sampling check: draw qualified sequences\n",
        "for i in seq1000_:\n",
        "  seq = list(i)\n",
        "  if reject_sampling(seq0 + seq) == False: good_seq.append(seq0 + seq)\n",
        "\n",
        "# print(\"good_seq: \", len(good_seq))\n",
        "\n",
        "for s in all_path_sequence:\n",
        "  if reject_sampling(s) == False: good_seq_.append(s)\n",
        "\n",
        "# print(\"good_seq_: \", len(good_seq_))\n",
        "## Compensate: to 1000\n",
        "if len(good_seq_) != 1000:\n",
        "  compenNum = 1000 - len(good_seq_)\n",
        "  good_seq_ = good_seq_ + good_seq[:compenNum]\n",
        "\n",
        "print(len(good_seq_))"
      ]
    }
  ],
  "metadata": {
    "colab": {
      "collapsed_sections": [
        "KOhpVJtin56Y",
        "Q-NP8eW_tDHb",
        "Or80ycWP5eFW"
      ],
      "provenance": []
    },
    "kernelspec": {
      "display_name": "Python 3",
      "name": "python3"
    },
    "language_info": {
      "name": "python"
    }
  },
  "nbformat": 4,
  "nbformat_minor": 0
}
